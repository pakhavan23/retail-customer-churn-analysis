{
 "cells": [
  {
   "cell_type": "markdown",
   "id": "26603dce",
   "metadata": {
    "papermill": {
     "duration": 0.005003,
     "end_time": "2024-03-30T14:38:44.797163",
     "exception": false,
     "start_time": "2024-03-30T14:38:44.792160",
     "status": "completed"
    },
    "tags": []
   },
   "source": [
    "# **1. Getting to know the dataset**\n",
    "\n",
    "First, We're going to import the required Python libraries and our dataset."
   ]
  },
  {
   "cell_type": "code",
   "execution_count": 1,
   "id": "152c5605",
   "metadata": {
    "execution": {
     "iopub.execute_input": "2024-03-30T14:38:44.808288Z",
     "iopub.status.busy": "2024-03-30T14:38:44.807851Z",
     "iopub.status.idle": "2024-03-30T14:38:47.023218Z",
     "shell.execute_reply": "2024-03-30T14:38:47.022040Z"
    },
    "papermill": {
     "duration": 2.224551,
     "end_time": "2024-03-30T14:38:47.026484",
     "exception": false,
     "start_time": "2024-03-30T14:38:44.801933",
     "status": "completed"
    },
    "tags": []
   },
   "outputs": [],
   "source": [
    "#importing libraries\n",
    "import numpy as np\n",
    "import pandas as pd\n",
    "import seaborn as sns\n",
    "import matplotlib.pyplot as plt\n",
    "\n",
    "#importing the dataset\n",
    "customer_data = pd.read_csv('/kaggle/input/online-retail-customer-churn-dataset/online_retail_customer_churn.csv')"
   ]
  },
  {
   "cell_type": "markdown",
   "id": "6ebc7901",
   "metadata": {
    "papermill": {
     "duration": 0.00413,
     "end_time": "2024-03-30T14:38:47.035352",
     "exception": false,
     "start_time": "2024-03-30T14:38:47.031222",
     "status": "completed"
    },
    "tags": []
   },
   "source": [
    "Next, We'll take a look at our dataset size, and the first few rows of the data."
   ]
  },
  {
   "cell_type": "code",
   "execution_count": 2,
   "id": "9efae43e",
   "metadata": {
    "execution": {
     "iopub.execute_input": "2024-03-30T14:38:47.045952Z",
     "iopub.status.busy": "2024-03-30T14:38:47.045543Z",
     "iopub.status.idle": "2024-03-30T14:38:47.052965Z",
     "shell.execute_reply": "2024-03-30T14:38:47.051876Z"
    },
    "papermill": {
     "duration": 0.016147,
     "end_time": "2024-03-30T14:38:47.055735",
     "exception": false,
     "start_time": "2024-03-30T14:38:47.039588",
     "status": "completed"
    },
    "tags": []
   },
   "outputs": [
    {
     "data": {
      "text/plain": [
       "(1000, 15)"
      ]
     },
     "execution_count": 2,
     "metadata": {},
     "output_type": "execute_result"
    }
   ],
   "source": [
    "customer_data.shape"
   ]
  },
  {
   "cell_type": "code",
   "execution_count": 3,
   "id": "4f511d3d",
   "metadata": {
    "execution": {
     "iopub.execute_input": "2024-03-30T14:38:47.066512Z",
     "iopub.status.busy": "2024-03-30T14:38:47.066106Z",
     "iopub.status.idle": "2024-03-30T14:38:47.089736Z",
     "shell.execute_reply": "2024-03-30T14:38:47.088621Z"
    },
    "papermill": {
     "duration": 0.032152,
     "end_time": "2024-03-30T14:38:47.092413",
     "exception": false,
     "start_time": "2024-03-30T14:38:47.060261",
     "status": "completed"
    },
    "tags": []
   },
   "outputs": [
    {
     "data": {
      "text/html": [
       "<div>\n",
       "<style scoped>\n",
       "    .dataframe tbody tr th:only-of-type {\n",
       "        vertical-align: middle;\n",
       "    }\n",
       "\n",
       "    .dataframe tbody tr th {\n",
       "        vertical-align: top;\n",
       "    }\n",
       "\n",
       "    .dataframe thead th {\n",
       "        text-align: right;\n",
       "    }\n",
       "</style>\n",
       "<table border=\"1\" class=\"dataframe\">\n",
       "  <thead>\n",
       "    <tr style=\"text-align: right;\">\n",
       "      <th></th>\n",
       "      <th>Customer_ID</th>\n",
       "      <th>Age</th>\n",
       "      <th>Gender</th>\n",
       "      <th>Annual_Income</th>\n",
       "      <th>Total_Spend</th>\n",
       "      <th>Years_as_Customer</th>\n",
       "      <th>Num_of_Purchases</th>\n",
       "      <th>Average_Transaction_Amount</th>\n",
       "      <th>Num_of_Returns</th>\n",
       "      <th>Num_of_Support_Contacts</th>\n",
       "      <th>Satisfaction_Score</th>\n",
       "      <th>Last_Purchase_Days_Ago</th>\n",
       "      <th>Email_Opt_In</th>\n",
       "      <th>Promotion_Response</th>\n",
       "      <th>Target_Churn</th>\n",
       "    </tr>\n",
       "  </thead>\n",
       "  <tbody>\n",
       "    <tr>\n",
       "      <th>0</th>\n",
       "      <td>1</td>\n",
       "      <td>62</td>\n",
       "      <td>Other</td>\n",
       "      <td>45.15</td>\n",
       "      <td>5892.58</td>\n",
       "      <td>5</td>\n",
       "      <td>22</td>\n",
       "      <td>453.80</td>\n",
       "      <td>2</td>\n",
       "      <td>0</td>\n",
       "      <td>3</td>\n",
       "      <td>129</td>\n",
       "      <td>True</td>\n",
       "      <td>Responded</td>\n",
       "      <td>True</td>\n",
       "    </tr>\n",
       "    <tr>\n",
       "      <th>1</th>\n",
       "      <td>2</td>\n",
       "      <td>65</td>\n",
       "      <td>Male</td>\n",
       "      <td>79.51</td>\n",
       "      <td>9025.47</td>\n",
       "      <td>13</td>\n",
       "      <td>77</td>\n",
       "      <td>22.90</td>\n",
       "      <td>2</td>\n",
       "      <td>2</td>\n",
       "      <td>3</td>\n",
       "      <td>227</td>\n",
       "      <td>False</td>\n",
       "      <td>Responded</td>\n",
       "      <td>False</td>\n",
       "    </tr>\n",
       "    <tr>\n",
       "      <th>2</th>\n",
       "      <td>3</td>\n",
       "      <td>18</td>\n",
       "      <td>Male</td>\n",
       "      <td>29.19</td>\n",
       "      <td>618.83</td>\n",
       "      <td>13</td>\n",
       "      <td>71</td>\n",
       "      <td>50.53</td>\n",
       "      <td>5</td>\n",
       "      <td>2</td>\n",
       "      <td>2</td>\n",
       "      <td>283</td>\n",
       "      <td>False</td>\n",
       "      <td>Responded</td>\n",
       "      <td>True</td>\n",
       "    </tr>\n",
       "    <tr>\n",
       "      <th>3</th>\n",
       "      <td>4</td>\n",
       "      <td>21</td>\n",
       "      <td>Other</td>\n",
       "      <td>79.63</td>\n",
       "      <td>9110.30</td>\n",
       "      <td>3</td>\n",
       "      <td>33</td>\n",
       "      <td>411.83</td>\n",
       "      <td>5</td>\n",
       "      <td>3</td>\n",
       "      <td>5</td>\n",
       "      <td>226</td>\n",
       "      <td>True</td>\n",
       "      <td>Ignored</td>\n",
       "      <td>True</td>\n",
       "    </tr>\n",
       "    <tr>\n",
       "      <th>4</th>\n",
       "      <td>5</td>\n",
       "      <td>21</td>\n",
       "      <td>Other</td>\n",
       "      <td>77.66</td>\n",
       "      <td>5390.88</td>\n",
       "      <td>15</td>\n",
       "      <td>43</td>\n",
       "      <td>101.19</td>\n",
       "      <td>3</td>\n",
       "      <td>0</td>\n",
       "      <td>5</td>\n",
       "      <td>242</td>\n",
       "      <td>False</td>\n",
       "      <td>Unsubscribed</td>\n",
       "      <td>False</td>\n",
       "    </tr>\n",
       "  </tbody>\n",
       "</table>\n",
       "</div>"
      ],
      "text/plain": [
       "   Customer_ID  Age Gender  Annual_Income  Total_Spend  Years_as_Customer  \\\n",
       "0            1   62  Other          45.15      5892.58                  5   \n",
       "1            2   65   Male          79.51      9025.47                 13   \n",
       "2            3   18   Male          29.19       618.83                 13   \n",
       "3            4   21  Other          79.63      9110.30                  3   \n",
       "4            5   21  Other          77.66      5390.88                 15   \n",
       "\n",
       "   Num_of_Purchases  Average_Transaction_Amount  Num_of_Returns  \\\n",
       "0                22                      453.80               2   \n",
       "1                77                       22.90               2   \n",
       "2                71                       50.53               5   \n",
       "3                33                      411.83               5   \n",
       "4                43                      101.19               3   \n",
       "\n",
       "   Num_of_Support_Contacts  Satisfaction_Score  Last_Purchase_Days_Ago  \\\n",
       "0                        0                   3                     129   \n",
       "1                        2                   3                     227   \n",
       "2                        2                   2                     283   \n",
       "3                        3                   5                     226   \n",
       "4                        0                   5                     242   \n",
       "\n",
       "   Email_Opt_In Promotion_Response  Target_Churn  \n",
       "0          True          Responded          True  \n",
       "1         False          Responded         False  \n",
       "2         False          Responded          True  \n",
       "3          True            Ignored          True  \n",
       "4         False       Unsubscribed         False  "
      ]
     },
     "execution_count": 3,
     "metadata": {},
     "output_type": "execute_result"
    }
   ],
   "source": [
    "customer_data.head()"
   ]
  },
  {
   "cell_type": "markdown",
   "id": "19c21a65",
   "metadata": {
    "papermill": {
     "duration": 0.004437,
     "end_time": "2024-03-30T14:38:47.101667",
     "exception": false,
     "start_time": "2024-03-30T14:38:47.097230",
     "status": "completed"
    },
    "tags": []
   },
   "source": [
    "A vital step for a proper data analysis project is to identify variable's data types. We're also gonna take a look at column names, just to get a better sense of them."
   ]
  },
  {
   "cell_type": "code",
   "execution_count": 4,
   "id": "545ea770",
   "metadata": {
    "execution": {
     "iopub.execute_input": "2024-03-30T14:38:47.113268Z",
     "iopub.status.busy": "2024-03-30T14:38:47.112833Z",
     "iopub.status.idle": "2024-03-30T14:38:47.120332Z",
     "shell.execute_reply": "2024-03-30T14:38:47.119569Z"
    },
    "papermill": {
     "duration": 0.016429,
     "end_time": "2024-03-30T14:38:47.122727",
     "exception": false,
     "start_time": "2024-03-30T14:38:47.106298",
     "status": "completed"
    },
    "tags": []
   },
   "outputs": [
    {
     "data": {
      "text/plain": [
       "Customer_ID                     int64\n",
       "Age                             int64\n",
       "Gender                         object\n",
       "Annual_Income                 float64\n",
       "Total_Spend                   float64\n",
       "Years_as_Customer               int64\n",
       "Num_of_Purchases                int64\n",
       "Average_Transaction_Amount    float64\n",
       "Num_of_Returns                  int64\n",
       "Num_of_Support_Contacts         int64\n",
       "Satisfaction_Score              int64\n",
       "Last_Purchase_Days_Ago          int64\n",
       "Email_Opt_In                     bool\n",
       "Promotion_Response             object\n",
       "Target_Churn                     bool\n",
       "dtype: object"
      ]
     },
     "execution_count": 4,
     "metadata": {},
     "output_type": "execute_result"
    }
   ],
   "source": [
    "customer_data.dtypes"
   ]
  },
  {
   "cell_type": "markdown",
   "id": "6b09243e",
   "metadata": {
    "papermill": {
     "duration": 0.004777,
     "end_time": "2024-03-30T14:38:47.133086",
     "exception": false,
     "start_time": "2024-03-30T14:38:47.128309",
     "status": "completed"
    },
    "tags": []
   },
   "source": [
    "Now, let's get a little bit more information about the dataset and whether it has any null values. If it does, we need to follow a proper strategy, such as removing or substituting them. "
   ]
  },
  {
   "cell_type": "code",
   "execution_count": 5,
   "id": "6e1b547a",
   "metadata": {
    "execution": {
     "iopub.execute_input": "2024-03-30T14:38:47.145650Z",
     "iopub.status.busy": "2024-03-30T14:38:47.144392Z",
     "iopub.status.idle": "2024-03-30T14:38:47.171803Z",
     "shell.execute_reply": "2024-03-30T14:38:47.170287Z"
    },
    "papermill": {
     "duration": 0.036444,
     "end_time": "2024-03-30T14:38:47.174513",
     "exception": false,
     "start_time": "2024-03-30T14:38:47.138069",
     "status": "completed"
    },
    "tags": []
   },
   "outputs": [
    {
     "name": "stdout",
     "output_type": "stream",
     "text": [
      "<class 'pandas.core.frame.DataFrame'>\n",
      "RangeIndex: 1000 entries, 0 to 999\n",
      "Data columns (total 15 columns):\n",
      " #   Column                      Non-Null Count  Dtype  \n",
      "---  ------                      --------------  -----  \n",
      " 0   Customer_ID                 1000 non-null   int64  \n",
      " 1   Age                         1000 non-null   int64  \n",
      " 2   Gender                      1000 non-null   object \n",
      " 3   Annual_Income               1000 non-null   float64\n",
      " 4   Total_Spend                 1000 non-null   float64\n",
      " 5   Years_as_Customer           1000 non-null   int64  \n",
      " 6   Num_of_Purchases            1000 non-null   int64  \n",
      " 7   Average_Transaction_Amount  1000 non-null   float64\n",
      " 8   Num_of_Returns              1000 non-null   int64  \n",
      " 9   Num_of_Support_Contacts     1000 non-null   int64  \n",
      " 10  Satisfaction_Score          1000 non-null   int64  \n",
      " 11  Last_Purchase_Days_Ago      1000 non-null   int64  \n",
      " 12  Email_Opt_In                1000 non-null   bool   \n",
      " 13  Promotion_Response          1000 non-null   object \n",
      " 14  Target_Churn                1000 non-null   bool   \n",
      "dtypes: bool(2), float64(3), int64(8), object(2)\n",
      "memory usage: 103.6+ KB\n"
     ]
    }
   ],
   "source": [
    "customer_data.info()"
   ]
  },
  {
   "cell_type": "code",
   "execution_count": 6,
   "id": "69fd3c35",
   "metadata": {
    "execution": {
     "iopub.execute_input": "2024-03-30T14:38:47.186985Z",
     "iopub.status.busy": "2024-03-30T14:38:47.186079Z",
     "iopub.status.idle": "2024-03-30T14:38:47.195443Z",
     "shell.execute_reply": "2024-03-30T14:38:47.194421Z"
    },
    "papermill": {
     "duration": 0.018099,
     "end_time": "2024-03-30T14:38:47.197769",
     "exception": false,
     "start_time": "2024-03-30T14:38:47.179670",
     "status": "completed"
    },
    "tags": []
   },
   "outputs": [
    {
     "data": {
      "text/plain": [
       "Customer_ID                   0\n",
       "Age                           0\n",
       "Gender                        0\n",
       "Annual_Income                 0\n",
       "Total_Spend                   0\n",
       "Years_as_Customer             0\n",
       "Num_of_Purchases              0\n",
       "Average_Transaction_Amount    0\n",
       "Num_of_Returns                0\n",
       "Num_of_Support_Contacts       0\n",
       "Satisfaction_Score            0\n",
       "Last_Purchase_Days_Ago        0\n",
       "Email_Opt_In                  0\n",
       "Promotion_Response            0\n",
       "Target_Churn                  0\n",
       "dtype: int64"
      ]
     },
     "execution_count": 6,
     "metadata": {},
     "output_type": "execute_result"
    }
   ],
   "source": [
    "customer_data.isnull().sum()"
   ]
  },
  {
   "cell_type": "markdown",
   "id": "5e070d59",
   "metadata": {
    "papermill": {
     "duration": 0.005032,
     "end_time": "2024-03-30T14:38:47.208153",
     "exception": false,
     "start_time": "2024-03-30T14:38:47.203121",
     "status": "completed"
    },
    "tags": []
   },
   "source": [
    "Well, sounds like we've got a good dataset; no null values! For the last step before analyzing the data and answering our questions, let's take a look at some unique values for our object variables."
   ]
  },
  {
   "cell_type": "code",
   "execution_count": 7,
   "id": "4ba39c29",
   "metadata": {
    "execution": {
     "iopub.execute_input": "2024-03-30T14:38:47.220692Z",
     "iopub.status.busy": "2024-03-30T14:38:47.219787Z",
     "iopub.status.idle": "2024-03-30T14:38:47.227276Z",
     "shell.execute_reply": "2024-03-30T14:38:47.225865Z"
    },
    "papermill": {
     "duration": 0.016118,
     "end_time": "2024-03-30T14:38:47.229361",
     "exception": false,
     "start_time": "2024-03-30T14:38:47.213243",
     "status": "completed"
    },
    "tags": []
   },
   "outputs": [
    {
     "name": "stdout",
     "output_type": "stream",
     "text": [
      "The unique values of the 'Gender' column are: ['Other' 'Male' 'Female']\n",
      "\n",
      "The unique values of the 'Promotion Response' column are: ['Responded' 'Ignored' 'Unsubscribed']\n",
      "\n"
     ]
    }
   ],
   "source": [
    "print(f\"The unique values of the 'Gender' column are: {customer_data['Gender'].unique()}\")\n",
    "print()\n",
    "print(f\"The unique values of the 'Promotion Response' column are: {customer_data['Promotion_Response'].unique()}\")\n",
    "print()"
   ]
  },
  {
   "cell_type": "markdown",
   "id": "a41213c7",
   "metadata": {
    "papermill": {
     "duration": 0.005005,
     "end_time": "2024-03-30T14:38:47.239732",
     "exception": false,
     "start_time": "2024-03-30T14:38:47.234727",
     "status": "completed"
    },
    "tags": []
   },
   "source": [
    "# 2. What Are Our Questions?\n",
    "\n",
    "After getting familiar with our dataset, let's explore the questions we can answer by analyzing this data.\n",
    "\n",
    "Here's a list of 11 questions:\n",
    "1. What is the overall churn rate of the retail company?\n",
    "2. Does customer satisfaction score correlate with churn?\n",
    "3. How does age and gender influence customer churn?\n",
    "4. Do customers with a longer tenure (years as a customer) exhibit lower churn rates?\n",
    "5. Are customers with a higher number of returns more likely to churn?\n",
    "6. Do customers who engage in more support contacts have a higher churn rate?\n",
    "7. Is there any correlation between purchases and customer churn?\n",
    "8. Does the response to promotions affect the likelihood of churn?\n",
    "9. Is there a difference in churn rates between customers who have opted in for emails and those who haven't?\n",
    "10. How does the target churn variable distribute across the dataset? \n",
    "11. Can we build a predictive model to forecast customer churn based on the available features?\n",
    "\n"
   ]
  },
  {
   "cell_type": "markdown",
   "id": "68981b2a",
   "metadata": {
    "papermill": {
     "duration": 0.004814,
     "end_time": "2024-03-30T14:38:47.249612",
     "exception": false,
     "start_time": "2024-03-30T14:38:47.244798",
     "status": "completed"
    },
    "tags": []
   },
   "source": [
    "# 2.1. What is the overall churn rate of the retail company?"
   ]
  },
  {
   "cell_type": "code",
   "execution_count": 8,
   "id": "88f98742",
   "metadata": {
    "execution": {
     "iopub.execute_input": "2024-03-30T14:38:47.262155Z",
     "iopub.status.busy": "2024-03-30T14:38:47.261417Z",
     "iopub.status.idle": "2024-03-30T14:38:47.267305Z",
     "shell.execute_reply": "2024-03-30T14:38:47.266084Z"
    },
    "papermill": {
     "duration": 0.014716,
     "end_time": "2024-03-30T14:38:47.269497",
     "exception": false,
     "start_time": "2024-03-30T14:38:47.254781",
     "status": "completed"
    },
    "tags": []
   },
   "outputs": [
    {
     "name": "stdout",
     "output_type": "stream",
     "text": [
      "52.6\n"
     ]
    }
   ],
   "source": [
    "churn_rate = customer_data['Target_Churn'].mean() * 100\n",
    "print(churn_rate)"
   ]
  },
  {
   "cell_type": "markdown",
   "id": "42cd82f9",
   "metadata": {
    "papermill": {
     "duration": 0.00624,
     "end_time": "2024-03-30T14:38:47.281560",
     "exception": false,
     "start_time": "2024-03-30T14:38:47.275320",
     "status": "completed"
    },
    "tags": []
   },
   "source": [
    "So, by far, we know that an average of 52.6% of the company's customers have discontinued receiving service from the company. In other words, the churn rate is 52.6%."
   ]
  },
  {
   "cell_type": "markdown",
   "id": "252c407b",
   "metadata": {
    "papermill": {
     "duration": 0.004935,
     "end_time": "2024-03-30T14:38:47.291755",
     "exception": false,
     "start_time": "2024-03-30T14:38:47.286820",
     "status": "completed"
    },
    "tags": []
   },
   "source": [
    "# 2.2. Does customer satisfaction score correlate with churn?\n"
   ]
  },
  {
   "cell_type": "code",
   "execution_count": null,
   "id": "ffecb135",
   "metadata": {
    "papermill": {
     "duration": 0.004866,
     "end_time": "2024-03-30T14:38:47.301747",
     "exception": false,
     "start_time": "2024-03-30T14:38:47.296881",
     "status": "completed"
    },
    "tags": []
   },
   "outputs": [],
   "source": []
  },
  {
   "cell_type": "markdown",
   "id": "0bf0ad57",
   "metadata": {
    "papermill": {
     "duration": 0.004983,
     "end_time": "2024-03-30T14:38:47.311827",
     "exception": false,
     "start_time": "2024-03-30T14:38:47.306844",
     "status": "completed"
    },
    "tags": []
   },
   "source": [
    "# "
   ]
  }
 ],
 "metadata": {
  "kaggle": {
   "accelerator": "none",
   "dataSources": [
    {
     "datasetId": 4443573,
     "sourceId": 7627123,
     "sourceType": "datasetVersion"
    }
   ],
   "dockerImageVersionId": 30673,
   "isGpuEnabled": false,
   "isInternetEnabled": false,
   "language": "python",
   "sourceType": "notebook"
  },
  "kernelspec": {
   "display_name": "Python 3",
   "language": "python",
   "name": "python3"
  },
  "language_info": {
   "codemirror_mode": {
    "name": "ipython",
    "version": 3
   },
   "file_extension": ".py",
   "mimetype": "text/x-python",
   "name": "python",
   "nbconvert_exporter": "python",
   "pygments_lexer": "ipython3",
   "version": "3.10.13"
  },
  "papermill": {
   "default_parameters": {},
   "duration": 6.447565,
   "end_time": "2024-03-30T14:38:48.038728",
   "environment_variables": {},
   "exception": null,
   "input_path": "__notebook__.ipynb",
   "output_path": "__notebook__.ipynb",
   "parameters": {},
   "start_time": "2024-03-30T14:38:41.591163",
   "version": "2.5.0"
  }
 },
 "nbformat": 4,
 "nbformat_minor": 5
}
